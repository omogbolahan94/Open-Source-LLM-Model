{
 "cells": [
  {
   "cell_type": "markdown",
   "id": "396b8762-802d-4673-9af0-6860e4a6803f",
   "metadata": {},
   "source": [
    "### IMPORT NECESSARY LIBARIES"
   ]
  },
  {
   "cell_type": "markdown",
   "id": "d9ddf3db-946b-411e-b56c-e7a8c6b28260",
   "metadata": {},
   "source": [
    "**IMPORT BASIC LIBARIES**"
   ]
  },
  {
   "cell_type": "code",
   "execution_count": 3,
   "id": "d06bc094-9a28-4e28-8d93-e502a1e96163",
   "metadata": {},
   "outputs": [],
   "source": [
    "import numpy as np\n",
    "import pandas as pd\n",
    "\n",
    "import matplotlib.pyplot as plt"
   ]
  },
  {
   "cell_type": "markdown",
   "id": "953bd35d-9a49-4f0e-a24b-155f236b2a90",
   "metadata": {},
   "source": [
    "**IMPORTANT LIBRARIES TO RUN LLM MODELS**"
   ]
  },
  {
   "cell_type": "code",
   "execution_count": null,
   "id": "452276d8-5488-4c00-bee0-a6f791ce3de9",
   "metadata": {},
   "outputs": [
    {
     "name": "stdout",
     "output_type": "stream",
     "text": [
      "\u001b[1;32mInstalling transformers\u001b[0m\u001b[1;33m...\u001b[0m\n",
      "\u001b[?25lResolving transformers\u001b[33m...\u001b[0m\n",
      "\u001b[2K\u001b[1mAdded \u001b[0m\u001b[1;32mtransformers\u001b[0m to Pipfile's \u001b[1;33m[\u001b[0m\u001b[33mpackages\u001b[0m\u001b[1;33m]\u001b[0m \u001b[33m...\u001b[0m\n",
      "\u001b[2K✔ Installation Succeededormers...\n",
      "\u001b[2K\u001b[32m⠋\u001b[0m Installing transformers...\n",
      "\u001b[1A\u001b[2K\u001b[1;32mInstalling accelerate\u001b[0m\u001b[1;33m...\u001b[0m\n",
      "\u001b[?25lResolving accelerate\u001b[33m...\u001b[0m\n",
      "\u001b[2K\u001b[1mAdded \u001b[0m\u001b[1;32maccelerate\u001b[0m to Pipfile's \u001b[1;33m[\u001b[0m\u001b[33mpackages\u001b[0m\u001b[1;33m]\u001b[0m \u001b[33m...\u001b[0m\n",
      "\u001b[2K✔ Installation Succeededrate...\n",
      "\u001b[2K\u001b[32m⠙\u001b[0m Installing accelerate...\n",
      "\u001b[1A\u001b[2K\u001b[1;32mInstalling bitsandbytes\u001b[0m\u001b[1;33m...\u001b[0m\n",
      "\u001b[?25lResolving bitsandbytes\u001b[33m...\u001b[0m\n",
      "\u001b[2K\u001b[1mAdded \u001b[0m\u001b[1;32mbitsandbytes\u001b[0m to Pipfile's \u001b[1;33m[\u001b[0m\u001b[33mpackages\u001b[0m\u001b[1;33m]\u001b[0m \u001b[33m...\u001b[0m\n",
      "\u001b[2K✔ Installation Succeededdbytes...\n",
      "\u001b[2K\u001b[32m⠋\u001b[0m Installing bitsandbytes...\n",
      "\u001b[1A\u001b[2K\u001b[1;33mPipfile.lock \u001b[0m\u001b[1;33m(\u001b[0m\u001b[1;33maa5ed6\u001b[0m\u001b[1;33m)\u001b[0m\u001b[1;33m out of date: run `pipfile lock` to update to \u001b[0m\u001b[1;33m(\u001b[0m\u001b[1;33mf1d497\u001b[0m\u001b[1;33m)\u001b[0m\u001b[1;33m...\u001b[0m\n",
      "\u001b[1mRunning\u001b[0m \u001b[33m\u001b[1m$ pipenv lock\u001b[0m \u001b[1mthen\u001b[0m \u001b[33m\u001b[1m$ pipenv sync\u001b[0m\u001b[1m.\u001b[0m\n",
      "Locking\u001b[0m \u001b[33m[packages]\u001b[0m dependencies...\u001b[0m\n",
      "\u001b[?25lBuilding requirements\u001b[33m...\u001b[0m\n",
      "\u001b[2KResolving dependencies\u001b[33m...\u001b[0m\n",
      "\u001b[2K\u001b[32m⠹\u001b[0m Locking packages..."
     ]
    }
   ],
   "source": [
    "!pipenv install transformers accelerate bitsandbytes"
   ]
  },
  {
   "cell_type": "code",
   "execution_count": null,
   "id": "d8510485-508d-4f2c-a2c6-dd7e12694f9f",
   "metadata": {},
   "outputs": [],
   "source": []
  }
 ],
 "metadata": {
  "kernelspec": {
   "display_name": "Python 3 (ipykernel)",
   "language": "python",
   "name": "python3"
  },
  "language_info": {
   "codemirror_mode": {
    "name": "ipython",
    "version": 3
   },
   "file_extension": ".py",
   "mimetype": "text/x-python",
   "name": "python",
   "nbconvert_exporter": "python",
   "pygments_lexer": "ipython3",
   "version": "3.10.12"
  }
 },
 "nbformat": 4,
 "nbformat_minor": 5
}
